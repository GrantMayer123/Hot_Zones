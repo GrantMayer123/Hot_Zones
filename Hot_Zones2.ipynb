{
 "cells": [
  {
   "cell_type": "code",
   "execution_count": 4,
   "id": "5c631097-1e5e-4d9c-93fe-73261ee85e15",
   "metadata": {
    "tags": [
     "remove_cell"
    ]
   },
   "outputs": [
    {
     "data": {
      "application/vnd.jupyter.widget-view+json": {
       "model_id": "4fd5fbff9ef441e3b53e37cb3fa10377",
       "version_major": 2,
       "version_minor": 0
      },
      "text/plain": [
       "Text(value='', placeholder=\"Pitcher's First Name\")"
      ]
     },
     "metadata": {},
     "output_type": "display_data"
    },
    {
     "data": {
      "application/vnd.jupyter.widget-view+json": {
       "model_id": "e41c003ee09243dfaec26871fac1424f",
       "version_major": 2,
       "version_minor": 0
      },
      "text/plain": [
       "Text(value='', placeholder=\"Pitcher's Last Name\")"
      ]
     },
     "metadata": {},
     "output_type": "display_data"
    },
    {
     "data": {
      "application/vnd.jupyter.widget-view+json": {
       "model_id": "b4c9e5842b62426a8c5ee433abf17c02",
       "version_major": 2,
       "version_minor": 0
      },
      "text/plain": [
       "Text(value='', placeholder=\"Batter's First Name\")"
      ]
     },
     "metadata": {},
     "output_type": "display_data"
    },
    {
     "data": {
      "application/vnd.jupyter.widget-view+json": {
       "model_id": "83eb4c49b46a4f3890d65adc9227c7eb",
       "version_major": 2,
       "version_minor": 0
      },
      "text/plain": [
       "Text(value='', placeholder=\"Batter's Last Name\")"
      ]
     },
     "metadata": {},
     "output_type": "display_data"
    },
    {
     "data": {
      "application/vnd.jupyter.widget-view+json": {
       "model_id": "9590ec93b4f845769606e988deb024d9",
       "version_major": 2,
       "version_minor": 0
      },
      "text/plain": [
       "Dropdown(description='Balls:', options=('0', '1', '2', '3'), value='0')"
      ]
     },
     "metadata": {},
     "output_type": "display_data"
    },
    {
     "data": {
      "application/vnd.jupyter.widget-view+json": {
       "model_id": "f6a57ae1d1fc4c438e87583e9f288756",
       "version_major": 2,
       "version_minor": 0
      },
      "text/plain": [
       "Dropdown(description='Strikes:', options=('0', '1', '2'), value='0')"
      ]
     },
     "metadata": {},
     "output_type": "display_data"
    },
    {
     "data": {
      "application/vnd.jupyter.widget-view+json": {
       "model_id": "e69cab11a1554132a6383402da0946f9",
       "version_major": 2,
       "version_minor": 0
      },
      "text/plain": [
       "Dropdown(description='Pitch Type:', options=('Slider', 'Curveball', '4-seam', '2-seam', 'Sinker', 'Cutter', 'C…"
      ]
     },
     "metadata": {},
     "output_type": "display_data"
    },
    {
     "name": "stdout",
     "output_type": "stream",
     "text": [
      "Numbered strike zone from catcher's view:\n"
     ]
    },
    {
     "data": {
      "application/vnd.jupyter.widget-view+json": {
       "model_id": "f97234e840fd41e59c6487e9c43e4eba",
       "version_major": 2,
       "version_minor": 0
      },
      "text/plain": [
       "HTML(value='<img src=\"https://lh3.googleusercontent.com/proxy/0DIkB_7nRLjXgDc255JH0v3qDNGZ8iKP8Dfvb_1VHgFja3Iu…"
      ]
     },
     "metadata": {},
     "output_type": "display_data"
    },
    {
     "data": {
      "application/vnd.jupyter.widget-view+json": {
       "model_id": "d06d9183370a414a9e3292cf086b7448",
       "version_major": 2,
       "version_minor": 0
      },
      "text/plain": [
       "Dropdown(description='Prior Location:', options=('none', '1', '2', '3', '4', '5', '6', '7', '8', '9', '10', '1…"
      ]
     },
     "metadata": {},
     "output_type": "display_data"
    },
    {
     "data": {
      "application/vnd.jupyter.widget-view+json": {
       "model_id": "4812141d86304d3baa7b8403a04dc93a",
       "version_major": 2,
       "version_minor": 0
      },
      "text/plain": [
       "Dropdown(description='Prior Pitch:', options=('none', 'Fastball', 'Breakingball', 'Offspeed'), value='none')"
      ]
     },
     "metadata": {},
     "output_type": "display_data"
    },
    {
     "data": {
      "application/vnd.jupyter.widget-view+json": {
       "model_id": "f1dc4a87404d4aa4ad23c9a76200b84f",
       "version_major": 2,
       "version_minor": 0
      },
      "text/plain": [
       "Dropdown(description='Graph of:', index=2, options=('Swing %', 'Contact %', 'Hot Zones'), value='Hot Zones')"
      ]
     },
     "metadata": {},
     "output_type": "display_data"
    },
    {
     "data": {
      "application/vnd.jupyter.widget-view+json": {
       "model_id": "1d00333b53ee4095995d65ad4214f1aa",
       "version_major": 2,
       "version_minor": 0
      },
      "text/plain": [
       "Button(description='Generate Graph', style=ButtonStyle())"
      ]
     },
     "metadata": {},
     "output_type": "display_data"
    },
    {
     "data": {
      "application/vnd.jupyter.widget-view+json": {
       "model_id": "52ca8322df0b4e16a509570d93176fc9",
       "version_major": 2,
       "version_minor": 0
      },
      "text/plain": [
       "Button(description='Clear Output', style=ButtonStyle())"
      ]
     },
     "metadata": {},
     "output_type": "display_data"
    }
   ],
   "source": [
    "\n",
    "# import stuff\n",
    "import pandas as pd\n",
    "from matplotlib import pyplot\n",
    "from pybaseball import statcast_batter, statcast_pitcher, playerid_lookup\n",
    "from sklearn.model_selection import train_test_split\n",
    "from sklearn.ensemble import GradientBoostingRegressor\n",
    "from sklearn.ensemble import GradientBoostingClassifier\n",
    "import ipywidgets as widgets\n",
    "from IPython.display import clear_output\n",
    "import textwrap\n",
    "\n",
    "\n",
    "def setup():\n",
    "    global gen_graph\n",
    "    global clear_button\n",
    "    global pfn\n",
    "    global pln\n",
    "    global numberofballs\n",
    "    global numberofstrikes\n",
    "    global bfn\n",
    "    global p_type\n",
    "    global bln\n",
    "    global zonenum\n",
    "    global pripitch\n",
    "    global gen_graph\n",
    "    global graph_of\n",
    "\n",
    "    pfn = widgets.Text(placeholder=\"Pitcher's First Name\")\n",
    "    display(pfn)\n",
    "    pln = widgets.Text(placeholder=\"Pitcher's Last Name\")\n",
    "    display(pln)\n",
    "    bfn = widgets.Text(placeholder=\"Batter's First Name\")\n",
    "    display(bfn)\n",
    "    bln = widgets.Text(placeholder=\"Batter's Last Name\")\n",
    "    display(bln)\n",
    "\n",
    "    numberofballs = widgets.Dropdown(options=['0', '1', '2', '3'],value='0',description='Balls:')\n",
    "    display(numberofballs)\n",
    "    numberofstrikes = widgets.Dropdown(options=['0', '1', '2'],value='0',description='Strikes:')\n",
    "    display(numberofstrikes)\n",
    "\n",
    "    p_type = widgets.Dropdown(options=['Slider', 'Curveball', '4-seam', '2-seam', 'Sinker', 'Cutter', 'Changeup', 'Knuckleball', 'Knuckle-curve', 'Splitter'],value='Slider',description='Pitch Type:')\n",
    "    display(p_type)\n",
    "\n",
    "    print(\"Numbered strike zone from catcher's view:\")\n",
    "    wimage = widgets.HTML(value='<img src=\"https://lh3.googleusercontent.com/proxy/0DIkB_7nRLjXgDc255JH0v3qDNGZ8iKP8Dfvb_1VHgFja3IuQIBPoUyK5hSvg7MdCmhYzuBXSjdHRAGRt8m0d0jBtUafdBTwRiu3UcekmDuLV4FraA\">')\n",
    "    display(wimage)\n",
    "    zonenum = widgets.Dropdown(options=['none', '1', '2', '3', '4', '5', '6', '7', '8', '9', '10', '11', '12', '13', '14'],description='Prior Location:')\n",
    "    display(zonenum)\n",
    "\n",
    "    pripitch = widgets.Dropdown(options=['none', 'Fastball', 'Breakingball', 'Offspeed'],description='Prior Pitch:')\n",
    "    display(pripitch)\n",
    "    \n",
    "    graph_of = widgets.Dropdown(options=['Swing %', 'Contact %', 'Hot Zones'], value='Hot Zones', description='Graph of:')\n",
    "    display(graph_of)\n",
    "    \n",
    "    gen_graph = widgets.Button(description='Generate Graph')\n",
    "    clear_button = widgets.Button(description='Clear Output')\n",
    "    display(gen_graph)\n",
    "    display(clear_button)\n",
    "    button_function()\n",
    "\n",
    "\n",
    "\n",
    "\n",
    "def generate_graph(b):\n",
    "    \n",
    "    strike_number = int(numberofstrikes.value)\n",
    "    ball_number = int(numberofballs.value)\n",
    "    if p_type.value == 'Slider':\n",
    "        type_of_pitch = 'SL'\n",
    "    elif p_type.value == 'Curveball':\n",
    "        type_of_pitch = 'CU'\n",
    "    elif p_type.value == '4-seam':\n",
    "        type_of_pitch = 'FF'\n",
    "    elif p_type.value == '2-seam':\n",
    "        type_of_pitch = 'FT'\n",
    "    elif p_type.value == 'Sinker':\n",
    "        type_of_pitch = 'SI'\n",
    "    elif p_type.value == 'Changeup':\n",
    "        type_of_pitch = 'CH'\n",
    "    elif p_type.value == 'Knuckleball':\n",
    "        type_of_pitch = 'KN'\n",
    "    elif p_type.value == 'Knucklecurve':\n",
    "        type_of_pitch = 'KC'\n",
    "    elif p_type.value == 'Splitter':\n",
    "        type_of_pitch = 'FS'\n",
    "\n",
    "\n",
    "    previous_pitch_type = pripitch.value  # brk, fst, ofspd, or none\n",
    "    previous_pitch_zone = zonenum.value\n",
    "    # set the batter and pitcher names as well as the time frame\n",
    "    pitcher_first_name = pfn.value\n",
    "    pitcher_last_name = pln.value\n",
    "    firstname = bfn.value\n",
    "    lastname = bln.value\n",
    "    startdate = '2015-03-15'\n",
    "    enddate = '2025-07-22'\n",
    "\n",
    "    # get the pitcher and batter data from pybaseball\n",
    "    pitcheridlookup = playerid_lookup(pitcher_last_name, pitcher_first_name)\n",
    "    pitcheridlookupnumber = pitcheridlookup.values[0][2]\n",
    "    playeridlookup = playerid_lookup(lastname, firstname)\n",
    "    playeridlookupnumber = playeridlookup.values[0][2]\n",
    "\n",
    "    # filter out the bad rows of data for the batter\n",
    "    df0 = statcast_batter(startdate, enddate, playeridlookupnumber)\n",
    "    df1 = df0.loc[(df0['plate_x'].notnull()) & (df0['plate_z'].notnull())]\n",
    "    df2 = df1.loc[(df1['vx0'].notnull()) & (df1['vy0'].notnull())]\n",
    "    df3 = df2.loc[(df2['release_speed'].notnull()) & (df2['vz0'].notnull())]\n",
    "    df4 = df3.loc[(df3['pfx_x'].notnull()) & (df3['pfx_z'].notnull())]\n",
    "    df5 = df4.loc[(df4['strikes'].notnull()) & (df4['balls'].notnull())]\n",
    "    df6 = df5.loc[(df5['spin_axis'].notnull()) & (df5['release_spin_rate'].notnull())]\n",
    "    df7a = df6.loc[(df6['description'].notnull()) & (df6['pitch_type'].notnull())]\n",
    "    df7 = df7a.loc[(df7a['pitch_number'].notnull()) & (df7a['zone'].notnull())]\n",
    "    df7 = df7.loc[(df7['p_throws'].notnull())]\n",
    "    df7 = df7.loc[(df7['description'] != 'intent_ball') & (df7['pitch_type'] != 'PO')]\n",
    "\n",
    "    # set anything that wasn't hit to a launch speed of 0. These will be deleted later\n",
    "    df7.loc[df7['launch_speed'].isna(), 'launch_speed'] = 0\n",
    "    df7.loc[df7['description'].isin(['ball', 'called_strike', 'blocked_ball', 'hit_by_pitch', 'pitchout']), 'launch_speed'] = 0\n",
    "\n",
    "    # create a swing column\n",
    "    df7['swing'] = 1\n",
    "\n",
    "    # if the pitch was a ball, called strike, blocked ball, hit by pitch, or pitchout, then have swing be 0\n",
    "    df7.loc[df7['description'].isin(['ball', 'called_strike', 'blocked_ball', 'hit_by_pitch', 'pitchout']), 'swing'] = 0\n",
    "\n",
    "    # if the ball was hit into play, have type be 1. If not, then type is 0\n",
    "    df7.loc[df7['type'].isin(['X']), 'type'] = 1\n",
    "    df7.loc[df7['type'].isin(['S', 'B']), 'type'] = 0\n",
    "\n",
    "    # drop the bad rows out of the dataframe\n",
    "    df8 = df7.reset_index(drop=True)\n",
    "\n",
    "    # create arrays for the previous pitch type and location\n",
    "    prior_pitch_array = []\n",
    "    zone_array = []\n",
    "\n",
    "    # create columns in the dataframe for prior pitch and prior zone. Set the data in the columns to none\n",
    "    df8['prior_pitch'] = 'none'\n",
    "    df8['prior_zone'] = 'none'\n",
    "\n",
    "    # make sure the first pitch that the batter faced was the first pitch of an at bat\n",
    "    df8['pitch_number'][len(df8)-1] = 1\n",
    "\n",
    "    # loop through the dataset to set the first pitch as 'none' for the prior pitch type and zone. If it isn't the first pitch, set the pitch type and zone to what they were\n",
    "    for i in range(0, len(df8)):\n",
    "        if df8['pitch_number'][i] == 1:\n",
    "            prior_pitch_array.append('none')\n",
    "            zone_array.append('none')\n",
    "        elif df8['pitch_number'][i] != 1:\n",
    "            prior_pitch_array.append(df8['pitch_type'][i + 1])\n",
    "            zone_array.append(str(df8['zone'][i + 1]))\n",
    "\n",
    "    # set the prior pitch and zone columns of the dataset to the corresponding columns of their arrays\n",
    "    df8['prior_zone'] = zone_array\n",
    "    df8['prior_pitch'] = prior_pitch_array\n",
    "\n",
    "    # take all prior pitch types and sort them into categories\n",
    "    df8.loc[df8['prior_pitch'].isin(['SC', 'SL', 'CU', 'KC', 'CS', 'FS', 'KN']), 'prior_pitch'] = 'Breakingball'\n",
    "    df8.loc[df8['prior_pitch'].isin(['FF', 'FT', 'SI', 'FC']), 'prior_pitch'] = 'Fastball'\n",
    "    df8.loc[df8['prior_pitch'].isin(['CH', 'FO']), 'prior_pitch'] = 'Offspeed'\n",
    "\n",
    "    # if the pitch isn't in a mainstream category, make its category 'Breakingball' bc most rare pitches are breaking balls\n",
    "    for i in range(0, len(df8)):\n",
    "        if df8['prior_pitch'][i] != 'Breakingball':\n",
    "            if df8['prior_pitch'][i] != 'Fastball':\n",
    "                if df8['prior_pitch'][i] != 'Offspeed':\n",
    "                    if df8['prior_pitch'][i] != 'none':\n",
    "                        df8['prior_pitch'][i] = 'Breakingball'\n",
    "\n",
    "    # cut out the useless columns of the array\n",
    "    df9 = df8[['plate_x', 'plate_z', 'release_speed', 'pfx_x', 'pfx_z', 'vx0', 'vy0', 'vz0', 'strikes', 'balls', 'spin_axis', 'release_spin_rate', 'p_throws', 'prior_pitch', 'prior_zone', 'swing']]\n",
    "    # filter df 10 to only pitches that the batter swings at\n",
    "    df10 = df8.loc[(df8['swing'] == 1)]\n",
    "    # cut out the useless columns of the array\n",
    "    df10 = df10[['plate_x', 'plate_z', 'release_speed', 'pfx_x', 'pfx_z', 'vx0', 'vy0', 'vz0', 'strikes', 'balls', 'spin_axis', 'release_spin_rate', 'p_throws', 'prior_pitch', 'prior_zone', 'type']]\n",
    "    # filter df 11 to only pitches that the batter makes contact with\n",
    "    df11 = df8.loc[(df8['type'] == 1)]\n",
    "    # cut out the useless columns of the array\n",
    "    df11 = df11[['plate_x', 'plate_z', 'release_speed', 'pfx_x', 'pfx_z', 'vx0', 'vy0', 'vz0', 'strikes', 'balls', 'spin_axis', 'release_spin_rate', 'p_throws', 'prior_pitch', 'prior_zone', 'launch_speed']]\n",
    "    # df 9 is the swing dataframe, df 10 is the contact array, and df 11 is the heat map array\n",
    "\n",
    "    # create separate columns to the dataframe for prior pitches so it will understand strings\n",
    "    dummy = pd.get_dummies(df9['prior_pitch'])\n",
    "    df9 = pd.concat([df9, dummy], axis=1)\n",
    "    df9 = df9.drop('prior_pitch', axis=1)\n",
    "\n",
    "    # create separate columns to the dataframe for p_throws so it will understand strings\n",
    "    dummy_p_throws = pd.get_dummies(df9['p_throws'])\n",
    "    df9 = pd.concat([df9, dummy_p_throws], axis=1)\n",
    "    df9 = df9.drop('p_throws', axis=1)\n",
    "\n",
    "    # create separate columns to the dataframe for prior zone so it will understand strings\n",
    "    zonedummy = pd.get_dummies(df9['prior_zone'])\n",
    "    df9 = pd.concat([df9, zonedummy], axis=1)\n",
    "    df9 = df9.drop('prior_zone', axis=1)\n",
    "\n",
    "    # create another column in the dataframe for swing so swing will be the last column and then delete the previous swing column\n",
    "    swing_column = df9['swing'].values\n",
    "    df9 = df9.drop('swing', axis=1)\n",
    "    df9['swings'] = swing_column\n",
    "\n",
    "\n",
    "    # create separate columns to the dataframe for prior pitches so it will understand strings\n",
    "    dummy2 = pd.get_dummies(df10['prior_pitch'])\n",
    "    df10 = pd.concat([df10, dummy2], axis=1)\n",
    "    df10 = df10.drop('prior_pitch', axis=1)\n",
    "\n",
    "    # create separate columns to the dataframe for p_throws so it will understand strings\n",
    "    dummy_p_throws2 = pd.get_dummies(df10['p_throws'])\n",
    "    df10 = pd.concat([df10, dummy_p_throws2], axis=1)\n",
    "    df10 = df10.drop('p_throws', axis=1)\n",
    "\n",
    "    # create separate columns to the dataframe for prior zone so it will understand strings\n",
    "    zonedummy2 = pd.get_dummies(df10['prior_zone'])\n",
    "    df10 = pd.concat([df10, zonedummy2], axis=1)\n",
    "    df10 = df10.drop('prior_zone', axis=1)\n",
    "\n",
    "    # create another column in the dataframe for type so type will be the last column and then delete the previous type column\n",
    "    type_column = df10['type'].values\n",
    "    df10 = df10.drop('type', axis=1)\n",
    "    df10['types'] = type_column\n",
    "\n",
    "\n",
    "    # create separate columns to the dataframe for prior pitches so it will understand strings\n",
    "    dummy3 = pd.get_dummies(df11['prior_pitch'])\n",
    "    df11 = pd.concat([df11, dummy3], axis=1)\n",
    "    df11 = df11.drop('prior_pitch', axis=1)\n",
    "\n",
    "    # create separate columns to the dataframe for p_throws so it will understand strings\n",
    "    dummy_p_throws3 = pd.get_dummies(df11['p_throws'])\n",
    "    df11 = pd.concat([df11, dummy_p_throws3], axis=1)\n",
    "    df11 = df11.drop('p_throws', axis=1)\n",
    "    #\n",
    "    # create separate columns to the dataframe for prior zone so it will understand strings\n",
    "    zonedummy3 = pd.get_dummies(df11['prior_zone'])\n",
    "    df11 = pd.concat([df11, zonedummy3], axis=1)\n",
    "    df11 = df11.drop('prior_zone', axis=1)\n",
    "\n",
    "    # create another column in the dataframe for launch_speed so launch_speed will be the last column and then delete the previous launch_speed column\n",
    "    speed_column = df11['launch_speed'].values\n",
    "    df11 = df11.drop('launch_speed', axis=1)\n",
    "    df11['lsa'] = speed_column\n",
    "\n",
    "    # convert the dataframes into arrays\n",
    "    df9_array = df9.values\n",
    "    df10_array = df10.values\n",
    "    df11_array = df11.values\n",
    "\n",
    "    # split the dataset into data and result columns\n",
    "    x = df9_array[:, 0:(len(df9.columns) - 1)]\n",
    "    y = df9_array[:, (len(df9.columns) - 1)]\n",
    "    y=y.astype('int')\n",
    "\n",
    "    # split the dataset into data and result columns\n",
    "    x2 = df10_array[:, 0:(len(df10.columns) - 1)]\n",
    "    y2 = df10_array[:, (len(df10.columns) - 1)]\n",
    "    y2=y2.astype('int')\n",
    "\n",
    "    # split the dataset into data and result columns\n",
    "    x3 = df11_array[:, 0:(len(df11.columns) - 1)]\n",
    "    y3 = df11_array[:, (len(df11.columns) - 1)]\n",
    "    y3=y3.astype('int')\n",
    "\n",
    "    # split the datasets into train and validation groups\n",
    "    X_train, X_validation, Y_train, Y_validation = train_test_split(x, y, test_size=0.20, random_state=1)\n",
    "    X_train2, X_validation2, Y_train2, Y_validation2 = train_test_split(x2, y2, test_size=0.20, random_state=1)\n",
    "    X_train3, X_validation3, Y_train3, Y_validation3 = train_test_split(x3, y3, test_size=0.20, random_state=1)\n",
    "\n",
    "    # filter out the bad pitcher data (not necessary but good to do)\n",
    "    pdata0 = statcast_pitcher(startdate, enddate, pitcheridlookupnumber)\n",
    "    pdata2 = pdata0.loc[(pdata0['vx0'].notnull()) & (pdata0['vy0'].notnull())]\n",
    "    pdata3 = pdata2.loc[(pdata2['release_speed'].notnull()) & (pdata2['vz0'].notnull())]\n",
    "    pdata4 = pdata3.loc[(pdata3['pfx_x'].notnull()) & (pdata3['pfx_z'].notnull())]\n",
    "    pdata6 = pdata4.loc[(pdata4['spin_axis'].notnull()) & (pdata4['release_spin_rate'].notnull())]\n",
    "    pdata7 = pdata6.loc[(pdata6['pitch_type'].notnull()) & (pdata6['p_throws'].notnull())]\n",
    "    pdata8 = pdata7[['release_speed', 'pfx_x', 'pfx_z', 'vx0', 'vy0', 'vz0', 'spin_axis', 'release_spin_rate', 'p_throws', 'pitch_type']]\n",
    "\n",
    "    # get the shape of the pitcher array ready for graphing\n",
    "    pitcher_array = []\n",
    "    for i in range(0, 1600):\n",
    "        pitcher_array.append([])\n",
    "\n",
    "    # figure out what hand the pitcher throws with\n",
    "    p_throw = pdata8['p_throws'][1]\n",
    "\n",
    "    # make each row of pdata8 a different type of pitch and have the data in that row be the mean for that pitch\n",
    "    pdata8 = pdata8.groupby('pitch_type').mean()\n",
    "\n",
    "    # fill in pitcher_array with data for each location of pitch\n",
    "    for i in range(0, 40):\n",
    "        for k in range(0, 40):\n",
    "            pitcher_array[40*i+k].append(k/10-2)\n",
    "            pitcher_array[40*i+k].append(i/10+0.5)\n",
    "            pitcher_array[40*i+k].append(pdata8['release_speed'][type_of_pitch])\n",
    "            pitcher_array[40*i+k].append(pdata8['pfx_x'][type_of_pitch])\n",
    "            pitcher_array[40*i+k].append(pdata8['pfx_z'][type_of_pitch])\n",
    "            pitcher_array[40*i+k].append(pdata8['vx0'][type_of_pitch])\n",
    "            pitcher_array[40*i+k].append(pdata8['vy0'][type_of_pitch])\n",
    "            pitcher_array[40*i+k].append(pdata8['vz0'][type_of_pitch])\n",
    "            pitcher_array[40*i+k].append(strike_number)\n",
    "            pitcher_array[40*i+k].append(ball_number)\n",
    "            pitcher_array[40*i+k].append(pdata8['spin_axis'][type_of_pitch])\n",
    "            pitcher_array[40*i+k].append(pdata8['release_spin_rate'][type_of_pitch])\n",
    "            pitcher_array[40*i+k].append(0)\n",
    "            pitcher_array[40*i+k].append(0)\n",
    "            pitcher_array[40 * i + k].append(0)\n",
    "            pitcher_array[40 * i + k].append(0)\n",
    "            pitcher_array[40 * i + k].append(0)\n",
    "            pitcher_array[40 * i + k].append(0)\n",
    "            pitcher_array[40 * i + k].append(0)\n",
    "            pitcher_array[40 * i + k].append(0)\n",
    "            pitcher_array[40 * i + k].append(0)\n",
    "            pitcher_array[40 * i + k].append(0)\n",
    "            pitcher_array[40 * i + k].append(0)\n",
    "            pitcher_array[40 * i + k].append(0)\n",
    "            pitcher_array[40 * i + k].append(0)\n",
    "            pitcher_array[40 * i + k].append(0)\n",
    "            pitcher_array[40 * i + k].append(0)\n",
    "            pitcher_array[40 * i + k].append(0)\n",
    "            pitcher_array[40 * i + k].append(0)\n",
    "            pitcher_array[40 * i + k].append(0)\n",
    "            pitcher_array[40 * i + k].append(0)\n",
    "            pitcher_array[40 * i + k].append(0)\n",
    "\n",
    "    # convert pitcher_array to a dataframe and set the correct previous pitch type, previous pitch zone, and pitcher handedness to 1\n",
    "    pitcher_array_df = pd.DataFrame(data=pitcher_array, columns=['plate_x', 'plate_z', 'release_speed', 'pfx_x', 'pfx_z', 'vx0', 'vy0', 'vz0', 'strikes', 'balls', 'spin_axis', 'release_spin_rate', 'Breakingball', 'Fastball', 'none', 'Offspeed', 'L', 'R', '1', '11', '12', '13', '14', '2', '3', '4', '5', '6', '7', '8', '9', 'none'])\n",
    "    pitcher_array_df[previous_pitch_type] = 1\n",
    "    pitcher_array_df[p_throw] = 1\n",
    "    pitcher_array_df[previous_pitch_zone] = 1\n",
    "\n",
    "    # fit the model and use it on the swing data\n",
    "    model = GradientBoostingClassifier()\n",
    "    model.fit(X_train, Y_train)\n",
    "    yproba = model.predict_proba(pitcher_array)\n",
    "    yprobadf = pd.DataFrame(data=yproba, columns=['take', 'swing'])\n",
    "    total_swing = yprobadf['swing']\n",
    "\n",
    "    # fit the model again and use it on the contact data\n",
    "    model.fit(X_train2, Y_train2)\n",
    "    yproba2 = model.predict_proba(pitcher_array)\n",
    "    yprobadf2 = pd.DataFrame(data=yproba2, columns=['miss', 'hit'])\n",
    "\n",
    "    # set total contact to the probability of contact (swing% * hit% on swing)\n",
    "    total_contact = []\n",
    "    for i in range(len(yprobadf)):\n",
    "        total_contact.append(yprobadf['swing'][i]*yprobadf2['hit'][i])\n",
    "\n",
    "    # fit a different model model and use it on the heat map data\n",
    "    model2 = GradientBoostingRegressor()\n",
    "    model2.fit(X_train3, Y_train3)\n",
    "    yproba3 = model2.predict(pitcher_array)\n",
    "\n",
    "    # set total velo to the heat map data (contact% * estimated exit velocity on contact)\n",
    "    total_velo = []\n",
    "    for i in range(len(total_contact)):\n",
    "        total_velo.append(total_contact[i] * (yproba3[i]-40))\n",
    "\n",
    "    shading = []\n",
    "    hzvalue = '1) A good Hot Zone number is about 25'\n",
    "    swingvalue = \"2) A player's hot zone graph may seem questionably low. This is because swing percentages are part of the algorithim, and batters may not swing often in counts like 0-0\"  \n",
    "    swingvalue2 = \"Note: A player's hot zone graph may seem questionably low. This is because swing percentages are part of the algorithim, and batters may not swing often in counts like 0-0\"  \n",
    "\n",
    "\n",
    "    # Wrap this text.\n",
    "    twrapper = textwrap.TextWrapper(width=50)\n",
    "    hzwords = twrapper.wrap(text=hzvalue)\n",
    "    swingwords = twrapper.wrap(text=swingvalue)\n",
    "    swingwords2 = twrapper.wrap(text=swingvalue2)\n",
    "\n",
    "    \n",
    "\n",
    "    if graph_of.value == 'Hot Zones':\n",
    "        shading = total_velo\n",
    "        print('Notes:')\n",
    "        for element in hzwords:\n",
    "            print(element)      \n",
    "        for element in swingwords:\n",
    "            print(element) \n",
    "    elif graph_of.value == 'Contact %':\n",
    "        for element in swingwords2:\n",
    "            print(element)\n",
    "        shading = total_contact\n",
    "    elif graph_of.value == 'Swing %':\n",
    "        shading = total_swing\n",
    "    # create plot on data\n",
    "    fig, ax = pyplot.subplots()\n",
    "    # C can be total_velo, total_contact, or total_swing\n",
    "    graph = ax.hexbin(pitcher_array_df['plate_x'], pitcher_array_df['plate_z'], C=shading, vmin=0, gridsize=15, cmap='BuPu')\n",
    "    key = pyplot.colorbar(graph)\n",
    "    key.set_label(graph_of.value)\n",
    "    rectangle = pyplot.Rectangle((-0.7, 1.75), 1.4, 1.66, fc='none', ec=\"black\")\n",
    "    ax.add_patch(rectangle)\n",
    "\n",
    "    ball_number = str(ball_number)\n",
    "    strike_number = str(strike_number)\n",
    "    previous_pitch_zone = str(previous_pitch_zone)\n",
    "\n",
    "    if ball_number == '0' and strike_number == '0':\n",
    "        pyplot.title(firstname + \" \" + lastname + \" vs a \" + p_type.value + ' from ' + pitcher_first_name + ' ' + pitcher_last_name + ' on the first pitch')\n",
    "    else:\n",
    "        pyplot.title(firstname + \" \" + lastname + \" vs a \" + ball_number + \"-\" + strike_number + ' ' + p_type.value + ' from ' + pitcher_first_name + ' ' + pitcher_last_name + ' after a ' + previous_pitch_type + ' in zone ' + previous_pitch_zone)\n",
    "\n",
    "\n",
    "    pyplot.show()\n",
    "\n",
    "def clear_function(a):\n",
    "    clear_output(wait=True)\n",
    "    setup()\n",
    "\n",
    "def button_function():\n",
    "    gen_graph.on_click(generate_graph)\n",
    "    clear_button.on_click(clear_function)\n",
    "\n",
    "setup()\n",
    "    \n",
    "gen_graph.on_click(generate_graph)\n",
    "clear_button.on_click(clear_function)\n",
    "\n",
    "\n"
   ]
  },
  {
   "cell_type": "code",
   "execution_count": null,
   "id": "f2601de6",
   "metadata": {},
   "outputs": [],
   "source": []
  },
  {
   "cell_type": "code",
   "execution_count": null,
   "id": "49487689",
   "metadata": {},
   "outputs": [],
   "source": []
  }
 ],
 "metadata": {
  "celltoolbar": "Edit Metadata",
  "kernelspec": {
   "display_name": "Python 3",
   "language": "python",
   "name": "python3"
  },
  "language_info": {
   "codemirror_mode": {
    "name": "ipython",
    "version": 3
   },
   "file_extension": ".py",
   "mimetype": "text/x-python",
   "name": "python",
   "nbconvert_exporter": "python",
   "pygments_lexer": "ipython3",
   "version": "3.8.8"
  }
 },
 "nbformat": 4,
 "nbformat_minor": 5
}
